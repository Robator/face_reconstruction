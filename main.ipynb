{
 "cells": [
  {
   "cell_type": "code",
   "execution_count": 1,
   "metadata": {},
   "outputs": [],
   "source": [
    "import glob\n",
    "import numpy as np\n",
    "\n",
    "train_path = \"./db_dep/train/\"\n",
    "train_files = glob.glob(train_path + \"person-*/*.png\")"
   ]
  },
  {
   "cell_type": "code",
   "execution_count": 319,
   "metadata": {},
   "outputs": [],
   "source": [
    "class Merger:\n",
    "\tdef __init__(self, shape, batch):\n",
    "\t\tself.img_idx = 0\n",
    "\t\tself.average_image = None\n",
    "\t\tself.batch_size = batch\n",
    "\t\tself.sum_image = np.zeros(shape[::-1], dtype=np.uint)\n",
    "\n",
    "\tdef find_intersection_by_ids(self, xy1: tuple):\n",
    "\t\t\"\"\"\n",
    "\t\tFind intersection between given array with x and y coordinates and\n",
    "\t\tcoordinates of average image which are not equal 255\n",
    "\t\t:param xy1: x and y indices\n",
    "\t\t:return: intersection mask\n",
    "\t\t\"\"\"\n",
    "\t\txy2 = np.where(self.average_image < 255)\n",
    "\n",
    "\t\tx_mask = np.zeros_like(xy1[0], dtype=bool)\n",
    "\t\ty_mask = np.zeros_like(x_mask)\n",
    "\t\ti = 0\n",
    "\t\tfor x1, x2 in zip(xy1[0], xy2[0]):\n",
    "\t\t\tx_mask[i] = (x1 == x2)\n",
    "\t\t\ti += 1\n",
    "\t\ti = 0\n",
    "\t\tfor y1, y2 in zip(xy1[1], xy2[1]):\n",
    "\t\t\ty_mask[i] = (y1 == y2)\n",
    "\t\t\ti += 1\n",
    "\t\tmask = (x_mask & y_mask)\n",
    "\t\treturn mask\n",
    "\n",
    "\tdef apply_average(self):\n",
    "\t\t\"\"\"\n",
    "\t\tAverage pixels on intersection of current batch and average image.\n",
    "\t\tOnly non-white pixels are averaged\n",
    "\t\t\"\"\"\n",
    "\t\tif self.average_image is None:\n",
    "\t\t\tself.average_image = self.sum_image\n",
    "\n",
    "\t\tnonzero_values_ids = np.where(self.sum_image < 255)\n",
    "\n",
    "\t\t# apply mask\n",
    "\t\tintersection_mask = self.find_intersection_by_ids(nonzero_values_ids)\n",
    "\t\tnonzero_values_ids_x, nonzero_values_ids_y = nonzero_values_ids\n",
    "\t\tnonzero_values_ids_x = nonzero_values_ids_x[intersection_mask]\n",
    "\t\tnonzero_values_ids_y = nonzero_values_ids_y[intersection_mask]\n",
    "\t\tnonzero_values_ids = (nonzero_values_ids_x, nonzero_values_ids_y)\n",
    "\n",
    "\t\t# take chosen values of current image\n",
    "\t\tcur_nonzero = self.sum_image[nonzero_values_ids]\n",
    "\t\t# and values with corresponding indices on average image\n",
    "\t\tav_nonzero = self.average_image[nonzero_values_ids]\n",
    "\t\taveraged_pixels = 0.5 * (av_nonzero + cur_nonzero / self.batch_size)\n",
    "\n",
    "\t\t# save average image in memory for next call\n",
    "\t\tself.average_image[nonzero_values_ids] = averaged_pixels\n",
    "\t\tself.average_image = self.average_image.astype(np.uint8)\n",
    "\n",
    "\tdef merge_to_one(self, image):\n",
    "\t\t\"\"\"\n",
    "\t\tMerge current image to previous in batch.\n",
    "\t\t:param image: current input image\n",
    "\t\t:return: numpy array of the same size with averaged pixels\n",
    "\t\t\"\"\"\n",
    "\t\tself.sum_image += np.asarray(image)\n",
    "\t\tif self.img_idx % self.batch_size == 0:\n",
    "\t\t\tself.apply_average()\n",
    "\t\t\tself.sum_image.fill(0)\n",
    "\t\tself.img_idx += 1\n",
    "\t\treturn self.average_image\n",
    "    "
   ]
  },
  {
   "cell_type": "code",
   "execution_count": 320,
   "metadata": {},
   "outputs": [
    {
     "name": "stdout",
     "output_type": "stream",
     "text": [
      "./db_dep/train/person-4/frame11_dep.png PNG (116, 120)xL\n"
     ]
    },
    {
     "data": {
      "text/plain": "<PIL.Image.Image image mode=L size=116x120 at 0x7F4D90ABE810>",
      "image/png": "[encoded data removed]"
     },
     "metadata": {},
     "output_type": "display_data"
    },
    {
     "name": "stdout",
     "output_type": "stream",
     "text": [
      "./db_dep/train/person-7/frame11_dep.png PNG (116, 120)xL\n"
     ]
    },
    {
     "data": {
      "text/plain": "<PIL.Image.Image image mode=L size=116x120 at 0x7F4D90AF3C90>",
      "image/png": "[encoded data removed]"
     },
     "metadata": {},
     "output_type": "display_data"
    },
    {
     "name": "stdout",
     "output_type": "stream",
     "text": [
      "./db_dep/train/person-3/frame11_dep.png PNG (116, 120)xL\n"
     ]
    },
    {
     "data": {
      "text/plain": "<PIL.Image.Image image mode=L size=116x120 at 0x7F4D90AF3650>",
      "image/png": "[encoded data removed]"
     },
     "metadata": {},
     "output_type": "display_data"
    },
    {
     "name": "stdout",
     "output_type": "stream",
     "text": [
      "./db_dep/train/person-26/frame11_dep.png PNG (116, 120)xL\n"
     ]
    },
    {
     "data": {
      "text/plain": "<PIL.Image.Image image mode=L size=116x120 at 0x7F4D90ABEC90>",
      "image/png": "[encoded data removed]"
     },
     "metadata": {},
     "output_type": "display_data"
    },
    {
     "name": "stdout",
     "output_type": "stream",
     "text": [
      "./db_dep/train/person-8/frame11_dep.png PNG (116, 120)xL\n"
     ]
    },
    {
     "data": {
      "text/plain": "<PIL.Image.Image image mode=L size=116x120 at 0x7F4D90B228D0>",
      "image/png": "[encoded data removed]"
     },
     "metadata": {},
     "output_type": "display_data"
    },
    {
     "name": "stdout",
     "output_type": "stream",
     "text": [
      "./db_dep/train/person-23/frame11_dep.png PNG (116, 120)xL\n"
     ]
    },
    {
     "data": {
      "text/plain": "<PIL.Image.Image image mode=L size=116x120 at 0x7F4D90B22FD0>",
      "image/png": "[encoded data removed]"
     },
     "metadata": {},
     "output_type": "display_data"
    },
    {
     "name": "stdout",
     "output_type": "stream",
     "text": [
      "./db_dep/train/person-28/frame11_dep.png PNG (116, 120)xL\n"
     ]
    },
    {
     "data": {
      "text/plain": "<PIL.Image.Image image mode=L size=116x120 at 0x7F4D90ABEC90>",
      "image/png": "[encoded data removed]"
     },
     "metadata": {},
     "output_type": "display_data"
    },
    {
     "name": "stdout",
     "output_type": "stream",
     "text": [
      "./db_dep/train/person-11/frame11_dep.png PNG (116, 120)xL\n"
     ]
    },
    {
     "data": {
      "text/plain": "<PIL.Image.Image image mode=L size=116x120 at 0x7F4D90AF3C90>",
      "image/png": "[encoded data removed]"
     },
     "metadata": {},
     "output_type": "display_data"
    },
    {
     "name": "stdout",
     "output_type": "stream",
     "text": [
      "./db_dep/train/person-15/frame11_dep.png PNG (116, 120)xL\n"
     ]
    },
    {
     "data": {
      "text/plain": "<PIL.Image.Image image mode=L size=116x120 at 0x7F4D90C33AD0>",
      "image/png": "[encoded data removed]"
     },
     "metadata": {},
     "output_type": "display_data"
    },
    {
     "name": "stdout",
     "output_type": "stream",
     "text": [
      "./db_dep/train/person-21/frame11_dep.png PNG (116, 120)xL\n"
     ]
    },
    {
     "data": {
      "text/plain": "<PIL.Image.Image image mode=L size=116x120 at 0x7F4D90AF3650>",
      "image/png": "[encoded data removed]"
     },
     "metadata": {},
     "output_type": "display_data"
    },
    {
     "name": "stdout",
     "output_type": "stream",
     "text": [
      "./db_dep/train/person-5/frame11_dep.png PNG (116, 120)xL\n"
     ]
    },
    {
     "data": {
      "text/plain": "<PIL.Image.Image image mode=L size=116x120 at 0x7F4D90ABEC90>",
      "image/png": "[encoded data removed]"
     },
     "metadata": {},
     "output_type": "display_data"
    },
    {
     "name": "stdout",
     "output_type": "stream",
     "text": [
      "./db_dep/train/person-12/frame11_dep.png PNG (116, 120)xL\n"
     ]
    },
    {
     "data": {
      "text/plain": "<PIL.Image.Image image mode=L size=116x120 at 0x7F4D90C33AD0>",
      "image/png": "[encoded data removed]"
     },
     "metadata": {},
     "output_type": "display_data"
    },
    {
     "name": "stdout",
     "output_type": "stream",
     "text": [
      "./db_dep/train/person-13/frame11_dep.png PNG (116, 120)xL\n"
     ]
    },
    {
     "data": {
      "text/plain": "<PIL.Image.Image image mode=L size=116x120 at 0x7F4D90AF3850>",
      "image/png": "[encoded data removed]"
     },
     "metadata": {},
     "output_type": "display_data"
    },
    {
     "name": "stdout",
     "output_type": "stream",
     "text": [
      "./db_dep/train/person-6/frame11_dep.png PNG (116, 120)xL\n"
     ]
    },
    {
     "data": {
      "text/plain": "<PIL.Image.Image image mode=L size=116x120 at 0x7F4D90AF3C90>",
      "image/png": "[encoded data removed]"
     },
     "metadata": {},
     "output_type": "display_data"
    },
    {
     "name": "stdout",
     "output_type": "stream",
     "text": [
      "./db_dep/train/person-14/frame11_dep.png PNG (116, 120)xL\n"
     ]
    },
    {
     "data": {
      "text/plain": "<PIL.Image.Image image mode=L size=116x120 at 0x7F4D90AF3290>",
      "image/png": "[encoded data removed]"
     },
     "metadata": {},
     "output_type": "display_data"
    },
    {
     "name": "stdout",
     "output_type": "stream",
     "text": [
      "./db_dep/train/person-22/frame11_dep.png PNG (116, 120)xL\n"
     ]
    },
    {
     "data": {
      "text/plain": "<PIL.Image.Image image mode=L size=116x120 at 0x7F4D90ABE6D0>",
      "image/png": "[encoded data removed]"
     },
     "metadata": {},
     "output_type": "display_data"
    },
    {
     "name": "stdout",
     "output_type": "stream",
     "text": [
      "./db_dep/train/person-25/frame11_dep.png PNG (116, 120)xL\n"
     ]
    },
    {
     "data": {
      "text/plain": "<PIL.Image.Image image mode=L size=116x120 at 0x7F4D90AF3290>",
      "image/png": "[encoded data removed]"
     },
     "metadata": {},
     "output_type": "display_data"
    },
    {
     "name": "stdout",
     "output_type": "stream",
     "text": [
      "./db_dep/train/person-9/frame11_dep.png PNG (116, 120)xL\n"
     ]
    },
    {
     "data": {
      "text/plain": "<PIL.Image.Image image mode=L size=116x120 at 0x7F4D90B228D0>",
      "image/png": "[encoded data removed]"
     },
     "metadata": {},
     "output_type": "display_data"
    },
    {
     "name": "stdout",
     "output_type": "stream",
     "text": [
      "./db_dep/train/person-24/frame11_dep.png PNG (116, 120)xL\n"
     ]
    },
    {
     "data": {
      "text/plain": "<PIL.Image.Image image mode=L size=116x120 at 0x7F4D90ABEC90>",
      "image/png": "[encoded data removed]"
     },
     "metadata": {},
     "output_type": "display_data"
    },
    {
     "name": "stdout",
     "output_type": "stream",
     "text": [
      "./db_dep/train/person-2/frame11_dep.png PNG (116, 120)xL\n"
     ]
    },
    {
     "data": {
      "text/plain": "<PIL.Image.Image image mode=L size=116x120 at 0x7F4D90AF3590>",
      "image/png": "[encoded data removed]"
     },
     "metadata": {},
     "output_type": "display_data"
    }
   ],
   "source": [
    "from PIL import Image\n",
    "\n",
    "img_shape = (116, 120)\n",
    "batch_size = 1\n",
    "merger = Merger(img_shape, batch_size)\n",
    "for infile in train_files:\n",
    "    try:\n",
    "        with Image.open(infile) as im:\n",
    "            if im.mode != \"L\":\n",
    "                print(\"Expected 8-bit pixels, black and white image. Exiting...\")\n",
    "                exit(1)\n",
    "            print(infile, im.format, f\"{im.size}x{im.mode}\")\n",
    "            av_img = merger.merge_to_one(im)\n",
    "            pil_img = Image.fromarray(av_img, mode=\"L\")\n",
    "            display(pil_img)\n",
    "    except OSError:\n",
    "        pass\n",
    "pil_img.save(\"average_image.png\")"
   ]
  },
  {
   "cell_type": "code",
   "execution_count": 285,
   "outputs": [
    {
     "name": "stdout",
     "output_type": "stream",
     "text": [
      "(116, 120)\n",
      "[[150 255 255 ... 255 255 255]\n",
      " [255 255 255 ... 255 255 255]\n",
      " [255 255 255 ... 255 255 255]\n",
      " ...\n",
      " [255 255 255 ... 255 255 255]\n",
      " [255 255 255 ... 255 255 255]\n",
      " [255 255 255 ... 255 255 255]]\n",
      "[[150 255 255 ... 255 255 255]\n",
      " [255 255 255 ... 255 255 255]\n",
      " [255 255 255 ... 255 255 255]\n",
      " ...\n",
      " [255 255 255 ... 255 255 255]\n",
      " [255 255 255 ... 255 255 255]\n",
      " [255 255 255 ... 255 255 255]]\n",
      "[[150 255 255 ... 255 255 255]\n",
      " [255 255 255 ... 255 255 255]\n",
      " [255 255 255 ... 255 255 255]\n",
      " ...\n",
      " [255 255 255 ... 255 255 255]\n",
      " [255 255 255 ... 255 255 255]\n",
      " [255 255 255 ... 255 255 255]]\n",
      "[[ 75 127 127 ... 127 127 127]\n",
      " [127 127 127 ... 127 127 127]\n",
      " [127 127 127 ... 127 127 127]\n",
      " ...\n",
      " [127 127 127 ... 127 127 127]\n",
      " [127 127 127 ... 127 127 127]\n",
      " [127 127 127 ... 127 127 127]]\n",
      "[[112 127 127 ... 127 127 127]\n",
      " [127 127 127 ... 127 127 127]\n",
      " [127 127 127 ... 127 127 127]\n",
      " ...\n",
      " [127 127 127 ... 127 127 127]\n",
      " [127 127 127 ... 127 127 127]\n",
      " [127 127 127 ... 127 127 127]]\n"
     ]
    }
   ],
   "source": [
    "def test_merging():\n",
    "    \"\"\"\n",
    "    Merge black and then white image with one changed pixel into\n",
    "    white image with the same changed pixel\n",
    "    \"\"\"\n",
    "    img_shape = (116, 120) # cols, rows\n",
    "    batch_size = 1\n",
    "    merger = Merger(img_shape, batch_size)\n",
    "    pixel_value = 150\n",
    "\n",
    "    img1 = Image.new(\"L\", img_shape, \"white\")\n",
    "    print(img1.size)\n",
    "    img1.putpixel((0, 0), pixel_value)\n",
    "    print(np.asarray(img1))\n",
    "    img2 = Image.new(\"L\", img_shape, \"black\")\n",
    "    av_img = merger.merge_to_one(img1)\n",
    "    print(av_img)\n",
    "    assert av_img[0, 0] == pixel_value\n",
    "    assert av_img.shape == img_shape[::-1]\n",
    "    print(av_img)\n",
    "    av_img = merger.merge_to_one(img2)\n",
    "    print(av_img)\n",
    "    assert av_img[0, 0] == pixel_value / 2\n",
    "    av_img = merger.merge_to_one(img1)\n",
    "    print(av_img)\n",
    "    assert av_img[0, 0] == int((pixel_value / 2 + pixel_value) / 2)\n",
    "\n",
    "test_merging()"
   ],
   "metadata": {
    "collapsed": false,
    "pycharm": {
     "name": "#%%\n"
    }
   }
  },
  {
   "cell_type": "code",
   "execution_count": 307,
   "outputs": [],
   "source": [
    "def test_intersection():\n",
    "    \"\"\"\n",
    "    Only matching pixels should be averaged. In this case after merging black image into\n",
    "    white one only pixel at coordinate (0, 0) is changed\n",
    "    \"\"\"\n",
    "    img_shape = (116, 120) # cols, rows\n",
    "    batch_size = 1\n",
    "    merger = Merger(img_shape, batch_size)\n",
    "    pixel_value = 150\n",
    "\n",
    "    img1 = Image.new(\"L\", img_shape, \"white\")\n",
    "    img1.putpixel((0, 0), pixel_value)\n",
    "    img2 = Image.new(\"L\", img_shape, \"black\")\n",
    "    av_img = merger.merge_to_one(img1)\n",
    "    av_img = merger.merge_to_one(img2)\n",
    "    assert av_img[0, 0] == 75\n",
    "    assert np.all(av_img[0:, 1:] == 255)\n",
    "\n",
    "test_intersection()"
   ],
   "metadata": {
    "collapsed": false,
    "pycharm": {
     "name": "#%%\n"
    }
   }
  },
  {
   "cell_type": "code",
   "execution_count": 318,
   "outputs": [],
   "source": [
    "def test_find_intersection_by_ids():\n",
    "\t\"\"\"\n",
    "\tCheck output intersection mask is correct\n",
    "\t\"\"\"\n",
    "\timg_shape = (3, 1) # cols, rows\n",
    "\tbatch_size = 1\n",
    "\tmerger = Merger(img_shape, batch_size)\n",
    "\tpixel_value = 0\n",
    "\n",
    "\timg1 = Image.new(\"L\", img_shape, \"white\")\n",
    "\timg1.putpixel((0, 0), pixel_value)\n",
    "\timg1.putpixel((2, 0), pixel_value)\n",
    "\tarr2 = (np.array([0, 0]), np.array([0, 2]))\n",
    "\tav_img = merger.merge_to_one(img1)\n",
    "\n",
    "\tmask = merger.find_intersection_by_ids(arr2)\n",
    "\tassert np.all(mask == [True, True])\n",
    "\n",
    "test_find_intersection_by_ids()"
   ],
   "metadata": {
    "collapsed": false,
    "pycharm": {
     "name": "#%%\n"
    }
   }
  },
  {
   "cell_type": "code",
   "execution_count": null,
   "outputs": [],
   "source": [
    "img3 = Image.new(\"RGB\", (116, 120), \"black\")\n",
    "display(img3)"
   ],
   "metadata": {
    "collapsed": false,
    "pycharm": {
     "name": "#%%\n"
    }
   }
  }
 ],
 "metadata": {
  "kernelspec": {
   "display_name": "Python 3",
   "language": "python",
   "name": "python3"
  },
  "language_info": {
   "codemirror_mode": {
    "name": "ipython",
    "version": 3
   },
   "file_extension": ".py",
   "mimetype": "text/x-python",
   "name": "python",
   "nbconvert_exporter": "python",
   "pygments_lexer": "ipython3",
   "version": "3.7.4"
  }
 },
 "nbformat": 4,
 "nbformat_minor": 2
}